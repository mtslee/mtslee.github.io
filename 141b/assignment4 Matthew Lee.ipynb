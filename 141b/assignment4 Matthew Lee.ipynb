{
 "cells": [
  {
   "cell_type": "markdown",
   "metadata": {},
   "source": [
    "\n",
    "\n",
    "# Assignment 4\n",
    "\n",
    "In this assignment, you'll combine the assignment 3 data set with nutrition data from the [USDA Food Composition Databases](https://ndb.nal.usda.gov/ndb/search/list). The CSV file `fresh.csv` contains the fresh fruits and vegetables data you extracted in assignment 3.\n",
    "\n",
    "The USDA Food Composition Databases have a [documented](https://ndb.nal.usda.gov/ndb/doc/index) web API that returns data in JSON format . You need a key in order to use the API. Only 1000 requests are allowed per hour, so it would be a good idea to use [caching][requests_cache].\n",
    "\n",
    "[Sign up for an API key here](https://api.data.gov/signup/). The key will work with any Data.gov API. You may need the key again later in the quarter, so make sure you save it.\n",
    "\n",
    "These modules may be useful:\n",
    "\n",
    "* [requests](http://docs.python-requests.org/en/master/user/quickstart/)\n",
    "* [requests_cache][]\n",
    "* [urlparse](https://docs.python.org/2/library/urlparse.html)\n",
    "* [pandas](http://pandas.pydata.org/pandas-docs/stable/)\n",
    "\n",
    "[requests_cache]: https://pypi.python.org/pypi/requests-cache"
   ]
  },
  {
   "cell_type": "code",
   "execution_count": 1,
   "metadata": {
    "collapsed": true
   },
   "outputs": [],
   "source": [
    "from urllib2 import Request, urlopen\n",
    "from urlparse import urlparse, urlunparse\n",
    "import requests, requests_cache\n",
    "import pandas as pd\n",
    "import seaborn as sns\n",
    "import json\n",
    "import re\n",
    "from matplotlib import pyplot as plt\n",
    "plt.style.use('ggplot')\n",
    "%matplotlib inline\n",
    "requests_cache.install_cache('demo_cache')\n",
    "key=\"yCtT9prMnfCoZQwUP4MfYqPb37wTvalz3zrRnPvQ\"\n",
    "#make sure to get rid of key after"
   ]
  },
  {
   "cell_type": "markdown",
   "metadata": {},
   "source": [
    "__Exercise 1.1.__ Read the [search request documentation](https://ndb.nal.usda.gov/ndb/doc/apilist/API-SEARCH.md), then write a function called `ndb_search()` that makes a search request. The function should accept the search term as an argument. The function should return the search result items as a list (for 0 items, return an empty list).\n",
    "\n",
    "Note that the search url is: `https://api.nal.usda.gov/ndb/search`\n",
    "\n",
    "As an example, a search for `\"quail eggs\"` should return this list:\n",
    "\n",
    "```python\n",
    "[{u'ds': u'BL',\n",
    "  u'group': u'Branded Food Products Database',\n",
    "  u'name': u'CHAOKOH, QUAIL EGG IN BRINE, UPC: 044738074186',\n",
    "  u'ndbno': u'45094707',\n",
    "  u'offset': 0},\n",
    " {u'ds': u'BL',\n",
    "  u'group': u'Branded Food Products Database',\n",
    "  u'name': u'L&W, QUAIL EGGS, UPC: 024072000256',\n",
    "  u'ndbno': u'45094890',\n",
    "  u'offset': 1},\n",
    " {u'ds': u'BL',\n",
    "  u'group': u'Branded Food Products Database',\n",
    "  u'name': u'BUDDHA, QUAIL EGGS IN BRINE, UPC: 761934535098',\n",
    "  u'ndbno': u'45099560',\n",
    "  u'offset': 2},\n",
    " {u'ds': u'BL',\n",
    "  u'group': u'Branded Food Products Database',\n",
    "  u'name': u'GRAN SABANA, QUAIL EGGS, UPC: 819140010103',\n",
    "  u'ndbno': u'45169279',\n",
    "  u'offset': 3},\n",
    " {u'ds': u'BL',\n",
    "  u'group': u'Branded Food Products Database',\n",
    "  u'name': u\"D'ARTAGNAN, QUAIL EGGS, UPC: 736622102630\",\n",
    "  u'ndbno': u'45178254',\n",
    "  u'offset': 4},\n",
    " {u'ds': u'SR',\n",
    "  u'group': u'Dairy and Egg Products',\n",
    "  u'name': u'Egg, quail, whole, fresh, raw',\n",
    "  u'ndbno': u'01140',\n",
    "  u'offset': 5}]\n",
    "```\n",
    "\n",
    "As usual, make sure you document and test your function."
   ]
  },
  {
   "cell_type": "code",
   "execution_count": 3,
   "metadata": {
    "collapsed": false
   },
   "outputs": [],
   "source": [
    "def ndb_search(search):\n",
    "    url='https://api.nal.usda.gov/ndb/search'\n",
    "    response=requests.get(url, params = {\n",
    "        \"q\": search,\n",
    "        \"api_key\": key,\n",
    "        \"format\": \"json\",\n",
    "    })\n",
    "    \n",
    "    \n",
    "    #print response.url\n",
    "    response.raise_for_status()\n",
    "    test=response.json()\n",
    "    return test['list']['item']\n",
    "    #return test['list']['item']\n",
    "\n",
    "ndb_search(\"quail eggs\")"
   ]
  },
  {
   "cell_type": "markdown",
   "metadata": {},
   "source": [
    "__Exercise 1.2.__ Use your search function to get NDB numbers for the foods in the `fresh.csv` file. It's okay if you don't get an NDB number for every food, but try to come up with a strategy that gets most of them. Discuss your strategy in a short paragraph.\n",
    "\n",
    "Hints:\n",
    "\n",
    "* The foods are all raw and unbranded.\n",
    "* You can test search terms with the [online search page](https://ndb.nal.usda.gov/ndb/search/list).\n",
    "* You can convert the output of `ndb_search()` to a data frame with `pd.DataFrame()`.\n",
    "* The string methods for [Python](https://docs.python.org/2/library/stdtypes.html#string-methods) and [Pandas](http://pandas.pydata.org/pandas-docs/stable/text.html#method-summary) are useful here. It's okay if you use _simple_ regular expressions in the Pandas methods, although this exercise can be solved without them.\n",
    "* You can merge data frames that have a column in common with `pd.merge()`."
   ]
  },
  {
   "cell_type": "markdown",
   "metadata": {},
   "source": [
    "<p>The strategy I used below incorporated modifying the ndb_search() function that I originally created. And then I created a new function ndbnum() which I used to generate the output of the 'ndbnumber' from within the JSON extract. Within ndbnum(), I made it so that the entry was split by the '_' underscore and then the string 'raw' was added to the end. This way the ndb_search() would generate results that were more accurate. This proved to be the easiest method and involved the least amount of hardcode, aside from kiwi. Next was that I tested this out by running a for loop and returning it all within a pandas DataFrame as datalist. While not all of the entries returned are correct, the results were very accurate. There was trouble with kiwi, cabbage, and cucumber. And then finally appended this to the fresh.csv that we were given for this assignment and made a new row called 'ndbnumber'. </p>"
   ]
  },
  {
   "cell_type": "code",
   "execution_count": 4,
   "metadata": {
    "collapsed": false
   },
   "outputs": [],
   "source": [
    "def ndb_search(search,ds):\n",
    "    url='https://api.nal.usda.gov/ndb/search'\n",
    "    response=requests.get(url, params = {\n",
    "        \"q\": search,\n",
    "        \"api_key\": key,\n",
    "        \"format\": \"json\",\n",
    "        \"ds\": ds\n",
    "    })\n",
    "   \n",
    "            \n",
    "    response.raise_for_status()\n",
    "    test=response.json()\n",
    "    return test['list']['item']\n",
    "\n",
    "ndb_search(\"cherries raw\", \"Standard Reference\")\n"
   ]
  },
  {
   "cell_type": "code",
   "execution_count": 5,
   "metadata": {
    "collapsed": false,
    "scrolled": true
   },
   "outputs": [],
   "source": [
    "fresh=pd.read_csv(\"fresh.csv\")\n",
    "fresh.food[0]\n",
    "def ndbnum(search_term):\n",
    "    \n",
    "    search_term=search_term.partition('_')[0]+' '+search_term.partition('_')[2] + ' raw'\n",
    "    #search_term=search_term+' ,raw'    \n",
    "    if search_term=='kiwi  raw':\n",
    "        search_term='kiwi'\n",
    "    data=ndb_search(search_term,\"Standard Reference\")\n",
    "    for entry in fresh.iterrows():\n",
    "        df= {'Food name' : data[0][\"name\"],'ndbnumber' : data[0]['ndbno']}       \n",
    "        df=pd.DataFrame(df,index=[0])\n",
    "        #df2.append(df,ignore_index=True) ## dataframe aappend\n",
    "    return df\n",
    "#ndbnum('watermelon')"
   ]
  },
  {
   "cell_type": "code",
   "execution_count": 6,
   "metadata": {
    "collapsed": false
   },
   "outputs": [
    {
     "data": {
      "text/html": [
       "<div>\n",
       "<table border=\"1\" class=\"dataframe\">\n",
       "  <thead>\n",
       "    <tr style=\"text-align: right;\">\n",
       "      <th></th>\n",
       "      <th>Food name</th>\n",
       "      <th>ndbnumber</th>\n",
       "    </tr>\n",
       "  </thead>\n",
       "  <tbody>\n",
       "    <tr>\n",
       "      <th>0</th>\n",
       "      <td>Watermelon, raw</td>\n",
       "      <td>09326</td>\n",
       "    </tr>\n",
       "    <tr>\n",
       "      <th>1</th>\n",
       "      <td>Melons, cantaloupe, raw</td>\n",
       "      <td>09181</td>\n",
       "    </tr>\n",
       "    <tr>\n",
       "      <th>2</th>\n",
       "      <td>Tangerine juice, raw</td>\n",
       "      <td>09221</td>\n",
       "    </tr>\n",
       "    <tr>\n",
       "      <th>3</th>\n",
       "      <td>Strawberries, raw</td>\n",
       "      <td>09316</td>\n",
       "    </tr>\n",
       "    <tr>\n",
       "      <th>4</th>\n",
       "      <td>Plums, raw</td>\n",
       "      <td>09279</td>\n",
       "    </tr>\n",
       "  </tbody>\n",
       "</table>\n",
       "</div>"
      ],
      "text/plain": [
       "                 Food name ndbnumber\n",
       "0          Watermelon, raw     09326\n",
       "1  Melons, cantaloupe, raw     09181\n",
       "2     Tangerine juice, raw     09221\n",
       "3        Strawberries, raw     09316\n",
       "4               Plums, raw     09279"
      ]
     },
     "execution_count": 6,
     "metadata": {},
     "output_type": "execute_result"
    }
   ],
   "source": [
    "datalist=pd.DataFrame()\n",
    "for i in range(0,49):\n",
    "    str=fresh.food[i]\n",
    "    #str=str.partition('_')[0]\n",
    "    hi=ndbnum(str)\n",
    "    hi=pd.DataFrame(hi)\n",
    "    datalist=datalist.append(hi,ignore_index=True)\n",
    "datalist.head()  "
   ]
  },
  {
   "cell_type": "code",
   "execution_count": 7,
   "metadata": {
    "collapsed": false,
    "scrolled": true
   },
   "outputs": [],
   "source": [
    "ndbColumn=pd.DataFrame()\n",
    "for i, row in fresh.iterrows():\n",
    "    str1=fresh.food[i]\n",
    "    hi=ndbnum(str1)\n",
    "    hi=pd.DataFrame(hi)\n",
    "    ndbColumn=ndbColumn.append(hi,ignore_index=True)\n",
    "ndbColumn.drop_duplicates()\n",
    "fresh['ndbnumber']=pd.Series(ndbColumn.ndbnumber)"
   ]
  },
  {
   "cell_type": "code",
   "execution_count": 9,
   "metadata": {
    "collapsed": false
   },
   "outputs": [
    {
     "data": {
      "text/html": [
       "<div>\n",
       "<table border=\"1\" class=\"dataframe\">\n",
       "  <thead>\n",
       "    <tr style=\"text-align: right;\">\n",
       "      <th></th>\n",
       "      <th>form</th>\n",
       "      <th>price_per_lb</th>\n",
       "      <th>yield</th>\n",
       "      <th>lb_per_cup</th>\n",
       "      <th>price_per_cup</th>\n",
       "      <th>food</th>\n",
       "      <th>type</th>\n",
       "      <th>ndbnumber</th>\n",
       "    </tr>\n",
       "  </thead>\n",
       "  <tbody>\n",
       "    <tr>\n",
       "      <th>0</th>\n",
       "      <td>Fresh1</td>\n",
       "      <td>0.333412</td>\n",
       "      <td>0.52</td>\n",
       "      <td>0.330693</td>\n",
       "      <td>0.212033</td>\n",
       "      <td>watermelon</td>\n",
       "      <td>fruit</td>\n",
       "      <td>09326</td>\n",
       "    </tr>\n",
       "    <tr>\n",
       "      <th>1</th>\n",
       "      <td>Fresh1</td>\n",
       "      <td>0.535874</td>\n",
       "      <td>0.51</td>\n",
       "      <td>0.374786</td>\n",
       "      <td>0.393800</td>\n",
       "      <td>cantaloupe</td>\n",
       "      <td>fruit</td>\n",
       "      <td>09181</td>\n",
       "    </tr>\n",
       "    <tr>\n",
       "      <th>2</th>\n",
       "      <td>Fresh1</td>\n",
       "      <td>1.377962</td>\n",
       "      <td>0.74</td>\n",
       "      <td>0.407855</td>\n",
       "      <td>0.759471</td>\n",
       "      <td>tangerines</td>\n",
       "      <td>fruit</td>\n",
       "      <td>09221</td>\n",
       "    </tr>\n",
       "    <tr>\n",
       "      <th>3</th>\n",
       "      <td>Fresh1</td>\n",
       "      <td>2.358808</td>\n",
       "      <td>0.94</td>\n",
       "      <td>0.319670</td>\n",
       "      <td>0.802171</td>\n",
       "      <td>strawberries</td>\n",
       "      <td>fruit</td>\n",
       "      <td>09316</td>\n",
       "    </tr>\n",
       "    <tr>\n",
       "      <th>4</th>\n",
       "      <td>Fresh1</td>\n",
       "      <td>1.827416</td>\n",
       "      <td>0.94</td>\n",
       "      <td>0.363763</td>\n",
       "      <td>0.707176</td>\n",
       "      <td>plums</td>\n",
       "      <td>fruit</td>\n",
       "      <td>09279</td>\n",
       "    </tr>\n",
       "  </tbody>\n",
       "</table>\n",
       "</div>"
      ],
      "text/plain": [
       "     form  price_per_lb  yield  lb_per_cup  price_per_cup          food  \\\n",
       "0  Fresh1      0.333412   0.52    0.330693       0.212033    watermelon   \n",
       "1  Fresh1      0.535874   0.51    0.374786       0.393800    cantaloupe   \n",
       "2  Fresh1      1.377962   0.74    0.407855       0.759471    tangerines   \n",
       "3  Fresh1      2.358808   0.94    0.319670       0.802171  strawberries   \n",
       "4  Fresh1      1.827416   0.94    0.363763       0.707176         plums   \n",
       "\n",
       "    type ndbnumber  \n",
       "0  fruit     09326  \n",
       "1  fruit     09181  \n",
       "2  fruit     09221  \n",
       "3  fruit     09316  \n",
       "4  fruit     09279  "
      ]
     },
     "execution_count": 9,
     "metadata": {},
     "output_type": "execute_result"
    }
   ],
   "source": [
    "fresh.head()"
   ]
  },
  {
   "cell_type": "markdown",
   "metadata": {},
   "source": [
    "__Exercise 1.3.__ Read the [food reports V2 documentation](https://ndb.nal.usda.gov/ndb/doc/apilist/API-FOOD-REPORTV2.md), then write a function called `ndb_report()` that requests a _basic_ food report. The function should accept the NDB number as an argument and return the list of nutrients for the food.\n",
    "\n",
    "Note that the report url is: `https://api.nal.usda.gov/ndb/V2/reports`\n",
    "\n",
    "For example, for `\"09279\"` (raw plums) the first element of the returned list should be:\n",
    "\n",
    "```python\n",
    "{u'group': u'Proximates',\n",
    " u'measures': [{u'eqv': 165.0,\n",
    "   u'eunit': u'g',\n",
    "   u'label': u'cup, sliced',\n",
    "   u'qty': 1.0,\n",
    "   u'value': u'143.93'},\n",
    "  {u'eqv': 66.0,\n",
    "   u'eunit': u'g',\n",
    "   u'label': u'fruit (2-1/8\" dia)',\n",
    "   u'qty': 1.0,\n",
    "   u'value': u'57.57'},\n",
    "  {u'eqv': 151.0,\n",
    "   u'eunit': u'g',\n",
    "   u'label': u'NLEA serving',\n",
    "   u'qty': 1.0,\n",
    "   u'value': u'131.72'}],\n",
    " u'name': u'Water',\n",
    " u'nutrient_id': u'255',\n",
    " u'unit': u'g',\n",
    " u'value': u'87.23'}\n",
    "```\n",
    "\n",
    "Be sure to document and test your function."
   ]
  },
  {
   "cell_type": "code",
   "execution_count": 10,
   "metadata": {
    "collapsed": false
   },
   "outputs": [],
   "source": [
    "def ndb_report(NDB):\n",
    "    url='https://api.nal.usda.gov/ndb/V2/reports'\n",
    "    response=requests.get(url, params = {\n",
    "        \"ndbno\": NDB,\n",
    "        \"api_key\": key,\n",
    "        \"format\": \"json\",  \n",
    "    })\n",
    "    \n",
    "    response.raise_for_status()\n",
    "    test=response.json()\n",
    "    return test['foods'][0]['food']['nutrients']\n",
    "ndb_report(\"09279\")[0]\n"
   ]
  },
  {
   "cell_type": "code",
   "execution_count": 11,
   "metadata": {
    "collapsed": false
   },
   "outputs": [],
   "source": [
    "ndb_report(fresh.ndbnumber[0])[8]"
   ]
  },
  {
   "cell_type": "code",
   "execution_count": 10,
   "metadata": {
    "collapsed": false
   },
   "outputs": [],
   "source": [
    "calories_info=pd.DataFrame()\n",
    "for i, row in fresh.iterrows():\n",
    "    measure=ndb_report(fresh.ndbnumber[i])\n",
    "    calories_df = {'Calories_kCal' : measure[1]['value']}       \n",
    "    calories_df=pd.DataFrame(calories_df,index=[0])\n",
    "    calories_info=calories_info.append(calories_df,ignore_index=True)\n",
    "calories_info\n",
    "fresh['Calories_kCal']=pd.Series(calories_info.Calories_kCal)\n",
    "#fresh"
   ]
  },
  {
   "cell_type": "code",
   "execution_count": 11,
   "metadata": {
    "collapsed": false
   },
   "outputs": [],
   "source": [
    "protein_info=pd.DataFrame()\n",
    "for i, row in fresh.iterrows():\n",
    "    measure=ndb_report(fresh.ndbnumber[i])\n",
    "    protein_df = {'Protein_g' : measure[2]['value'], 'unit':measure[2]['unit']}       \n",
    "    protein_df=pd.DataFrame(protein_df,index=[0])\n",
    "    protein_info=protein_info.append(protein_df,ignore_index=True)\n",
    "protein_info\n",
    "fresh['Protein_g']=pd.Series(protein_info.Protein_g)\n",
    "#fresh"
   ]
  },
  {
   "cell_type": "markdown",
   "metadata": {},
   "source": [
    "__Exercise 1.4.__ Which foods provide the best combination of price, yield, and nutrition? You can use kilocalories as a measure of \"nutrition\" here, but more a detailed analysis is better. Use plots to support your analysis."
   ]
  },
  {
   "cell_type": "code",
   "execution_count": 12,
   "metadata": {
    "collapsed": false
   },
   "outputs": [
    {
     "name": "stderr",
     "output_type": "stream",
     "text": [
      "/Users/matthewlee/anaconda2/lib/python2.7/site-packages/ipykernel/__main__.py:4: FutureWarning: convert_objects is deprecated.  Use the data-type specific converters pd.to_datetime, pd.to_timedelta and pd.to_numeric.\n"
     ]
    }
   ],
   "source": [
    "# Convert the 'object' type to float64 or int64 so it can be plotted\n",
    "fresh.head()\n",
    "fresh.dtypes\n",
    "fresh = fresh.convert_objects(convert_numeric=True)\n",
    "#.addlegend()\n",
    "#.set_axis_labels()"
   ]
  },
  {
   "cell_type": "code",
   "execution_count": 13,
   "metadata": {
    "collapsed": false
   },
   "outputs": [
    {
     "data": {
      "image/png": "[encoded data removed]",
      "text/plain": [
       "<matplotlib.figure.Figure at 0x11660e310>"
      ]
     },
     "metadata": {},
     "output_type": "display_data"
    }
   ],
   "source": [
    "sns.jointplot(x='Calories_kCal',y='price_per_lb',data=fresh,color='g')\n",
    "plt.show()"
   ]
  },
  {
   "cell_type": "code",
   "execution_count": 14,
   "metadata": {
    "collapsed": false
   },
   "outputs": [
    {
     "data": {
      "image/png": "[encoded data removed]",
      "text/plain": [
       "<matplotlib.figure.Figure at 0x11b1cab50>"
      ]
     },
     "metadata": {},
     "output_type": "display_data"
    }
   ],
   "source": [
    "plot=sns.FacetGrid(data=fresh,col=\"type\")\n",
    "plot = (plot.map(plt.scatter, \"Protein_g\", \"price_per_lb\",))\n",
    "plt.show()"
   ]
  },
  {
   "cell_type": "code",
   "execution_count": 15,
   "metadata": {
    "collapsed": false
   },
   "outputs": [
    {
     "data": {
      "image/png": "[encoded data removed]",
      "text/plain": [
       "<matplotlib.figure.Figure at 0x11b5d14d0>"
      ]
     },
     "metadata": {},
     "output_type": "display_data"
    }
   ],
   "source": [
    "#barplot works for discrete vs continuous\n",
    "sns.barplot(x=\"type\",y=\"yield\",data=fresh)\n",
    "plt.show()"
   ]
  },
  {
   "cell_type": "code",
   "execution_count": 16,
   "metadata": {
    "collapsed": false
   },
   "outputs": [
    {
     "data": {
      "image/png": "[encoded data removed]",
      "text/plain": [
       "<matplotlib.figure.Figure at 0x11b9bf8d0>"
      ]
     },
     "metadata": {},
     "output_type": "display_data"
    }
   ],
   "source": [
    "sns.regplot(x=\"yield\",y=\"price_per_lb\",data=fresh)\n",
    "plt.show()"
   ]
  },
  {
   "cell_type": "code",
   "execution_count": 17,
   "metadata": {
    "collapsed": false
   },
   "outputs": [
    {
     "data": {
      "image/png": "[encoded data removed]",
      "text/plain": [
       "<matplotlib.figure.Figure at 0x11bbb7a90>"
      ]
     },
     "metadata": {},
     "output_type": "display_data"
    }
   ],
   "source": [
    "sns.regplot(x=\"Calories_kCal\",y=\"price_per_lb\",data=fresh,color='g')\n",
    "plt.show()"
   ]
  },
  {
   "cell_type": "markdown",
   "metadata": {},
   "source": [
    "<p> From our plots we can see that calories for all the foods have a slight positive correlation with price per pound. The reason we chose to analyze price per pound rather than price per cup was because this is the unit that is commonly used in grocery stores in the United States.  </p> <p> When we analyze protein per food item, the fruits and vegetables were split up when comparing their prices. We can see that price per pound for fruit has a wider range of prices. And for the vegetables, the protein content does not have much indication on how the vegetable is priced.</p>"
   ]
  }
 ],
 "metadata": {
  "anaconda-cloud": {},
  "kernelspec": {
   "display_name": "Python [default]",
   "language": "python",
   "name": "python2"
  },
  "language_info": {
   "codemirror_mode": {
    "name": "ipython",
    "version": 2
   },
   "file_extension": ".py",
   "mimetype": "text/x-python",
   "name": "python",
   "nbconvert_exporter": "python",
   "pygments_lexer": "ipython2",
   "version": "2.7.12"
  }
 },
 "nbformat": 4,
 "nbformat_minor": 2
}
